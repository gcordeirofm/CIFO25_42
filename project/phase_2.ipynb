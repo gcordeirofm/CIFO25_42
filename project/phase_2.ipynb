{
 "cells": [
  {
   "cell_type": "code",
   "execution_count": 9,
   "metadata": {},
   "outputs": [],
   "source": [
    "import sys\n",
    "import os\n",
    "sys.path.append('..')"
   ]
  },
  {
   "cell_type": "code",
   "execution_count": 10,
   "metadata": {},
   "outputs": [],
   "source": [
    "import random\n",
    "import itertools\n",
    "import numpy as np\n",
    "import pandas as pd\n",
    "import seaborn as sns\n",
    "import matplotlib.pyplot as plt\n",
    "\n",
    "# Solutions\n",
    "from library.solution import Solution\n",
    "from library.custom.custom_solutions import WSOSolution, WSOGASolution\n",
    "from library.data.relationship_matrix import relationship_matrix\n",
    "\n",
    "# Operators\n",
    "from library.algorithms.genetic_algorithms.algorithm import genetic_algorithm\n",
    "from library.algorithms.genetic_algorithms.selection import fitness_proportionate_selection\n",
    "from library.custom.custom_crossover import cycle_crossover, partially_matched_crossover, pos_based_crossover\n",
    "from library.custom.custom_mutation import block_swap_mutation, n_swap_mutation, displacement_mutation, shuffle_subsequence_mutation\n",
    "from library.custom.custom_selection import tournament_selection, ranking_selection\n",
    "\n",
    "# Statistical Analysis\n",
    "# from scipy.stats import f_oneway"
   ]
  },
  {
   "cell_type": "markdown",
   "metadata": {},
   "source": [
    "## Utility functions"
   ]
  },
  {
   "cell_type": "code",
   "execution_count": 11,
   "metadata": {},
   "outputs": [],
   "source": [
    "def plot_fitness_over_gen(fitness_dfs: dict[str, pd.DataFrame]):\n",
    "    \"\"\"\n",
    "    \n",
    "    \"\"\"\n",
    "    fig, axes = plt.subplots(1, 2, figsize=(14, 6), sharey=True)\n",
    "    handles, labels = [], []\n",
    "\n",
    "    for config_name, df in fitness_dfs.items():\n",
    "        mean_fitness = df.mean(axis=0)\n",
    "        median_fitness = df.median(axis=0)\n",
    "        \n",
    "        line1, = axes[0].plot(mean_fitness.index, mean_fitness.values, label=config_name)\n",
    "        axes[1].plot(median_fitness.index, median_fitness.values, label=config_name)\n",
    "\n",
    "        handles.append(line1)\n",
    "        labels.append(config_name)\n",
    "\n",
    "    axes[0].set_title(\"Mean Fitness Across Generations\")\n",
    "    axes[1].set_title(\"Median Fitness Across Generations\")\n",
    "\n",
    "    for ax in axes:\n",
    "        ax.set_xlabel(\"Generation\")\n",
    "        ax.set_ylabel(\"Fitness\")\n",
    "        ax.grid(True)\n",
    "\n",
    "    # Shared boxed legend below\n",
    "    legend = fig.legend(\n",
    "        handles,\n",
    "        labels,\n",
    "        loc='lower center',\n",
    "        bbox_to_anchor=(0.5, -0.15),\n",
    "        ncol=2,\n",
    "        frameon=True,\n",
    "        borderpad=1\n",
    "    )\n",
    "\n",
    "    plt.tight_layout()\n",
    "    plt.subplots_adjust(bottom=0.25)\n",
    "    plt.show()"
   ]
  },
  {
   "cell_type": "markdown",
   "metadata": {},
   "source": [
    "## Global parameters"
   ]
  },
  {
   "cell_type": "code",
   "execution_count": 12,
   "metadata": {},
   "outputs": [],
   "source": [
    "POP_SIZE = 50\n",
    "GENERATIONS = 200 # Increased because Phase 1 didn't seem to be converging yet\n",
    "NBR_RUNS = 1"
   ]
  },
  {
   "cell_type": "markdown",
   "metadata": {},
   "source": [
    "## Phase 2 Experiment: Hyperparameters\n",
    "Combination chosen for phase 2: partially_matched_crossover0.8_n_swap_mutation0.2_ranking_selection"
   ]
  },
  {
   "cell_type": "code",
   "execution_count": null,
   "metadata": {},
   "outputs": [],
   "source": [
    "grid_params = {\n",
    "    \"xo_prob\": [random.uniform(0, 1/5), random.uniform(1/5, 2/5), random.uniform(2/5, 3/5), random.uniform(3/5, 4/5), random.uniform(4/5, 1)],\n",
    "    \"mut_prob\": [random.uniform(0, 1/5), random.uniform(1/5, 2/5), random.uniform(2/5, 3/5), random.uniform(3/5, 4/5), random.uniform(4/5, 1)],\n",
    "    \"n_swap\": [3, 6],\n",
    "    \"elitisim\": [True, False],\n",
    "}\n",
    "\n",
    "finetune_fitness_results = {}\n",
    "\n",
    "for xo_prob in grid_params[\"xo_prob\"]:\n",
    "    for mut_prob in grid_params[\"mut_prob\"]:\n",
    "        for n_swap in grid_params[\"n_swap\"]:\n",
    "            for elitism in grid_params[\"elitisim\"]:\n",
    "                # Create empty dataframe for each configuration\n",
    "                # Columns have the fitness in each generation, rows will have results for each run\n",
    "                df = pd.DataFrame(columns=range(GENERATIONS)) # Shape will be runs x gen\n",
    "\n",
    "                for run_nr in range(NBR_RUNS):\n",
    "                    _, fitness_over_gens = genetic_algorithm(\n",
    "                        initial_population=[\n",
    "                            WSOGASolution(\n",
    "                            relationship_matrix=relationship_matrix,\n",
    "                            # UPDATE mutation function to best config\n",
    "                            mutation_function=lambda repr, mut_prob: n_swap_mutation(repr, mut_prob=mut_prob, n=n_swap), # lambda function to pass the n_swap parameter\n",
    "                            crossover_function=partially_matched_crossover, # UPDATE crossover function to best config\n",
    "                            ) for _ in range(POP_SIZE)\n",
    "                        ],\n",
    "                        max_gen=GENERATIONS,\n",
    "                        selection_algorithm=ranking_selection, #UPDATE selection algo to best config\n",
    "                        maximization=True,\n",
    "                        xo_prob=xo_prob,\n",
    "                        mut_prob=mut_prob,\n",
    "                        elitism=elitism\n",
    "                    )\n",
    "                    df.loc[run_nr] = fitness_over_gens\n",
    "\n",
    "                # Create a label for the config\n",
    "                config_label = f\"xo_prob={round(xo_prob, 2)}_mut_prob={round(mut_prob, 2)}_n_swap={n_swap}_elitism={elitism}\"\n",
    "            \n",
    "                 # Save configuration results in the dictionary\n",
    "                finetune_fitness_results[config_label] = df\n",
    "\n",
    "                # creating an output directory to save experiment results\n",
    "                output_dir = \"fitness_results/phase2\"\n",
    "                os.makedirs(output_dir, exist_ok=True)\n",
    "\n",
    "                # saving each configuration result as a CSV\n",
    "                df.to_csv(os.path.join(output_dir, f\"{config_label}.csv\"), index=False)"
   ]
  },
  {
   "cell_type": "code",
   "execution_count": null,
   "metadata": {},
   "outputs": [],
   "source": []
  }
 ],
 "metadata": {
  "kernelspec": {
   "display_name": "Python 3",
   "language": "python",
   "name": "python3"
  },
  "language_info": {
   "codemirror_mode": {
    "name": "ipython",
    "version": 3
   },
   "file_extension": ".py",
   "mimetype": "text/x-python",
   "name": "python",
   "nbconvert_exporter": "python",
   "pygments_lexer": "ipython3",
   "version": "3.13.2"
  }
 },
 "nbformat": 4,
 "nbformat_minor": 2
}
