{
 "cells": [
  {
   "cell_type": "markdown",
   "metadata": {},
   "source": [
    "# Crossover and Mutation Operator Exploration and Tests\n",
    "This notebook contains our approach to explore crossover and mutation operators to be later included in the library."
   ]
  },
  {
   "cell_type": "code",
   "execution_count": 1,
   "metadata": {},
   "outputs": [],
   "source": [
    "import sys\n",
    "sys.path.append('..')"
   ]
  },
  {
   "cell_type": "code",
   "execution_count": null,
   "metadata": {},
   "outputs": [],
   "source": [
    "import random\n",
    "from copy import deepcopy\n",
    "\n",
    "from library.custom.custom_solutions import WSOSolution"
   ]
  },
  {
   "cell_type": "markdown",
   "metadata": {},
   "source": [
    "# CROSSOVER OPERATORS"
   ]
  },
  {
   "cell_type": "markdown",
   "metadata": {},
   "source": [
    "## Tag and Untag Helper Functions"
   ]
  },
  {
   "cell_type": "code",
   "execution_count": 11,
   "metadata": {},
   "outputs": [],
   "source": [
    "# 'tagging' function that gives each table instance a unique position\n",
    "# imagine this as a seat number at a table\n",
    "\n",
    "def tag_solution(solution_repr):\n",
    "    counts = {}\n",
    "    tagged_soln = []\n",
    "    for table in solution_repr:\n",
    "        if table not in counts:\n",
    "            counts[table] = 0 # setting first instance of each table to 0\n",
    "        tagged_soln.append((table, counts[table]))\n",
    "        counts[table] += 1\n",
    "    return tagged_soln\n",
    "\n",
    "\n",
    "# 'untagging' function to return solution to original format\n",
    "def untag_solution(tagged_solution):\n",
    "    return [table for table, _ in tagged_solution]"
   ]
  },
  {
   "cell_type": "markdown",
   "metadata": {},
   "source": [
    "## Cycle Crossover"
   ]
  },
  {
   "cell_type": "code",
   "execution_count": 12,
   "metadata": {},
   "outputs": [],
   "source": [
    "# from lab week 8, some adaptations to make suitable for grouping\n",
    "def cycle_crossover(parent1_repr, parent2_repr):\n",
    "\n",
    "    '''\n",
    "    Defintion\n",
    "        Cycle Crossover preserves the position of elements by identifying a cycle\n",
    "        of indices where the values from each parent will be inherited by each offspring.\n",
    "        The remaining indices are filled with values from the other parent, maintaining valid permutations.\n",
    "\n",
    "    Parameters\n",
    "        parent1_repr: Parent 1 representataion (list)\n",
    "        parent2_repr: Parent 2 representation (list)\n",
    "\n",
    "    Returns\n",
    "        Pair of offspring with same type as parents\n",
    "    '''\n",
    "\n",
    "    tagged_p1 = tag_solution(parent1_repr)\n",
    "    tagged_p2 = tag_solution(parent2_repr)\n",
    "\n",
    "    initial_random_idx = random.randint(0, len(parent1_repr) - 1)\n",
    "\n",
    "    # Initialize the cycle with the starting index\n",
    "    cycle_idxs = [initial_random_idx]\n",
    "    current_cycle_idx = initial_random_idx\n",
    "\n",
    "    # Traverse the cycle by following the mapping from parent2 to parent1\n",
    "    while True:\n",
    "        value_parent2 = tagged_p2[current_cycle_idx]\n",
    "        next_cycle_idx = tagged_p1.index(value_parent2)\n",
    "\n",
    "        # break when we close the cycle\n",
    "        if next_cycle_idx == initial_random_idx:\n",
    "            break\n",
    "\n",
    "        cycle_idxs.append(next_cycle_idx)\n",
    "        current_cycle_idx = next_cycle_idx\n",
    "\n",
    "\n",
    "    # building offspring\n",
    "    tagged_offspring1 = []\n",
    "    tagged_offspring2 = []\n",
    "\n",
    "    for idx in range(len(parent1_repr)):\n",
    "        if idx in cycle_idxs:\n",
    "            # Keep values from parent1 in offspring1 in the cycle indexes\n",
    "            tagged_offspring1.append(tagged_p1[idx])\n",
    "            # Keep values from parent2 in offspring2 in the cycle indexes\n",
    "            tagged_offspring2.append(tagged_p2[idx])\n",
    "        else:\n",
    "            # Swap elements from parents in non-cycle indexes\n",
    "            tagged_offspring1.append(tagged_p2[idx])\n",
    "            tagged_offspring2.append(tagged_p1[idx])\n",
    "\n",
    "    # untag offspring to bring back to original format\n",
    "    offspring1_repr = untag_solution(tagged_offspring1)\n",
    "    offspring2_repr = untag_solution(tagged_offspring2)\n",
    "\n",
    "    return offspring1_repr, offspring2_repr"
   ]
  },
  {
   "cell_type": "code",
   "execution_count": 13,
   "metadata": {},
   "outputs": [
    {
     "name": "stdout",
     "output_type": "stream",
     "text": [
      "Parent 1: [1, 2, 1, 3, 1, 3, 3, 2, 2]\n",
      "Parent 2: [3, 2, 1, 1, 1, 2, 2, 3, 3]\n",
      "Tagged parent 1: [(1, 0), (2, 0), (1, 1), (3, 0), (1, 2), (3, 1), (3, 2), (2, 1), (2, 2)]\n",
      "Tagged parent 2: [(3, 0), (2, 0), (1, 0), (1, 1), (1, 2), (2, 1), (2, 2), (3, 1), (3, 2)]\n",
      "Offspring 1: [1, 2, 1, 3, 1, 2, 2, 3, 3]\n",
      "Offspring 2: [3, 2, 1, 1, 1, 3, 3, 2, 2]\n"
     ]
    }
   ],
   "source": [
    "# testing cycle crossover with toy values\n",
    "parent1 = [1, 2, 1, 3, 1, 3, 3, 2, 2]\n",
    "parent2 = [3, 2, 1, 1, 1, 2, 2, 3, 3]\n",
    "\n",
    "print('Parent 1:', parent1)\n",
    "print('Parent 2:', parent2)\n",
    "\n",
    "print('Tagged parent 1:', tag_solution(solution_repr=parent1))\n",
    "print('Tagged parent 2:', tag_solution(solution_repr=parent2))\n",
    "\n",
    "offspring1, offspring2 = cycle_crossover(parent1_repr=parent1, parent2_repr=parent2)\n",
    "\n",
    "print('Offspring 1:', offspring1)\n",
    "print('Offspring 2:', offspring2)"
   ]
  },
  {
   "cell_type": "code",
   "execution_count": 14,
   "metadata": {},
   "outputs": [
    {
     "name": "stdout",
     "output_type": "stream",
     "text": [
      "Parent 1: [7, 1, 1, 4, 5, 0, 4, 3, 0, 7, 6, 4, 2, 0, 6, 0, 7, 5, 5, 7, 2, 0, 1, 5, 2, 7, 4, 3, 6, 7, 5, 6, 3, 1, 6, 3, 6, 0, 4, 6, 2, 5, 1, 2, 2, 7, 6, 5, 4, 4, 1, 0, 1, 4, 5, 7, 0, 2, 3, 2, 3, 3, 1, 3]\n",
      "Parent 2: [4, 2, 2, 5, 0, 7, 7, 2, 5, 4, 0, 6, 3, 2, 7, 7, 3, 1, 5, 5, 6, 1, 4, 6, 7, 1, 1, 4, 0, 0, 1, 4, 0, 5, 4, 6, 2, 6, 0, 7, 3, 6, 7, 2, 4, 1, 0, 3, 4, 1, 7, 1, 2, 6, 5, 0, 3, 5, 3, 6, 3, 3, 2, 5]\n",
      "Offspring 1 Representation: [4, 2, 1, 5, 0, 7, 7, 2, 5, 4, 0, 6, 3, 0, 6, 0, 7, 1, 5, 7, 2, 0, 4, 5, 7, 1, 4, 3, 6, 7, 5, 6, 3, 1, 6, 3, 6, 0, 4, 6, 2, 5, 1, 2, 2, 7, 0, 5, 4, 4, 1, 1, 1, 4, 5, 7, 0, 2, 3, 6, 3, 3, 2, 3]\n",
      "Offspring 2 Representation: [7, 1, 2, 4, 5, 0, 4, 3, 0, 7, 6, 4, 2, 2, 7, 7, 3, 5, 5, 5, 6, 1, 1, 6, 2, 7, 1, 4, 0, 0, 1, 4, 0, 5, 4, 6, 2, 6, 0, 7, 3, 6, 7, 2, 4, 1, 6, 3, 4, 1, 7, 0, 2, 6, 5, 0, 3, 5, 3, 2, 3, 3, 1, 5]\n"
     ]
    }
   ],
   "source": [
    "# testing on a real solution\n",
    "parent1 = WSOSolution().repr\n",
    "parent2 = WSOSolution().repr\n",
    "\n",
    "print('Parent 1:', parent1)\n",
    "print('Parent 2:', parent2)\n",
    "\n",
    "offspring1_repr, offsrping2_repr = cycle_crossover(parent1_repr=parent1, parent2_repr=parent2)\n",
    "\n",
    "print('Offspring 1 Representation:', offspring1_repr)\n",
    "print('Offspring 2 Representation:', offsrping2_repr)"
   ]
  },
  {
   "cell_type": "markdown",
   "metadata": {},
   "source": [
    "## Partially Matched Crossover"
   ]
  },
  {
   "cell_type": "code",
   "execution_count": 15,
   "metadata": {},
   "outputs": [],
   "source": [
    "def partially_matched_crossover(parent1_repr, parent2_repr):\n",
    "\n",
    "    '''\n",
    "    \n",
    "    Definition\n",
    "        In Partially Matched Crossover, two random indices are selected to create a 'window' in\n",
    "        each parent solution. Values within the window are copied to the opposite offspring (i.e. \n",
    "        Parent 1 copied into Offspring 2). Remaining indices are filled with values from the other\n",
    "        parent, skipping values already present in offspring from window swap.\n",
    "    \n",
    "    Parameters\n",
    "        parent1_repr: Parent 1 representataion (list)\n",
    "        parent2_repr: Parent 2 representation (list)\n",
    "    \n",
    "    Returns\n",
    "        Pair of offspring with same type as parents\n",
    "        \n",
    "    '''\n",
    "\n",
    "    tagged_p1 = tag_solution(parent1_repr)\n",
    "    tagged_p2 = tag_solution(parent2_repr)\n",
    "\n",
    "    size = len(tagged_p1)\n",
    "    # sanity check\n",
    "    print('Size of tagged parents:', size)\n",
    "\n",
    "    # randomly choose two indices for crossover window\n",
    "    first_idx = random.randint(0, len(tagged_p1)-1)\n",
    "    second_idx = first_idx\n",
    "    \n",
    "    # We want to get two indexes that are at least 2 genes away\n",
    "    while abs(second_idx-first_idx) <= 1:\n",
    "        second_idx = random.randint(0, len(tagged_p1)-1)\n",
    "\n",
    "    # Ensure first_idx < second_idx\n",
    "    if first_idx > second_idx:\n",
    "        first_idx, second_idx = second_idx, first_idx\n",
    "\n",
    "    # viewing indices\n",
    "    print('First index:', first_idx)\n",
    "    print('Second index:', second_idx)\n",
    "\n",
    "    # initiating empty offspring of correct size\n",
    "    tagged_offspring1 = [None] * size\n",
    "    tagged_offspring2 = [None] * size\n",
    "\n",
    "    for i in range(first_idx, second_idx +1):\n",
    "\n",
    "        # take values from window of opposite parent\n",
    "        tagged_offspring1[i] = tagged_p2[i]\n",
    "        tagged_offspring2[i] = tagged_p1[i]\n",
    "\n",
    "    # to fill the leftover positions\n",
    "    def fill_remaining(tagged_parent, tagged_offspring):\n",
    "        for i in range(size):\n",
    "\n",
    "            # leave the indices in the window alone\n",
    "            if i >= first_idx and i <= second_idx:\n",
    "                continue\n",
    "\n",
    "            # copy any remaining values from primary parent\n",
    "            for value in tagged_parent:\n",
    "                if value not in tagged_offspring:\n",
    "                    tagged_offspring[i] = value\n",
    "                    break\n",
    "\n",
    "    fill_remaining(tagged_p1, tagged_offspring1)\n",
    "    fill_remaining(tagged_p2, tagged_offspring2)\n",
    "\n",
    "    # sanity check\n",
    "    print('Tagged Offspring 1:', tagged_offspring1)\n",
    "    print('Tagged Offspring 2:', tagged_offspring2)\n",
    "\n",
    "    offspring1_repr = untag_solution(tagged_offspring1)\n",
    "    offsrping2_repr = untag_solution(tagged_offspring2)\n",
    "\n",
    "    return offspring1_repr, offsrping2_repr"
   ]
  },
  {
   "cell_type": "code",
   "execution_count": 16,
   "metadata": {},
   "outputs": [
    {
     "name": "stdout",
     "output_type": "stream",
     "text": [
      "Parent 1: [1, 2, 1, 3, 2, 3]\n",
      "Parent 2: [3, 2, 1, 1, 3, 2]\n",
      "Tagged parent 1: [(1, 0), (2, 0), (1, 1), (3, 0), (2, 1), (3, 1)]\n",
      "Tagged parent 2: [(3, 0), (2, 0), (1, 0), (1, 1), (3, 1), (2, 1)]\n",
      "Size of tagged parents: 6\n",
      "First index: 0\n",
      "Second index: 4\n",
      "Tagged Offspring 1: [(3, 0), (2, 0), (1, 0), (1, 1), (3, 1), (2, 1)]\n",
      "Tagged Offspring 2: [(1, 0), (2, 0), (1, 1), (3, 0), (2, 1), (3, 1)]\n",
      "Offspring 1: [3, 2, 1, 1, 3, 2]\n",
      "Offspring 2: [1, 2, 1, 3, 2, 3]\n"
     ]
    }
   ],
   "source": [
    "# testing partially matched crossover with toy values\n",
    "parent1 = [1, 2, 1, 3, 2, 3]\n",
    "parent2 = [3, 2, 1, 1, 3, 2]\n",
    "\n",
    "print('Parent 1:', parent1)\n",
    "print('Parent 2:', parent2)\n",
    "\n",
    "print('Tagged parent 1:', tag_solution(solution_repr=parent1))\n",
    "print('Tagged parent 2:', tag_solution(solution_repr=parent2))\n",
    "\n",
    "offspring1, offspring2 = partially_matched_crossover(parent1_repr=parent1, parent2_repr=parent2)\n",
    "\n",
    "print('Offspring 1:', offspring1)\n",
    "print('Offspring 2:', offspring2)"
   ]
  },
  {
   "cell_type": "code",
   "execution_count": 17,
   "metadata": {},
   "outputs": [
    {
     "name": "stdout",
     "output_type": "stream",
     "text": [
      "Parent 1: [7, 4, 0, 4, 5, 2, 1, 5, 2, 7, 0, 6, 5, 4, 3, 1, 7, 3, 4, 2, 2, 2, 1, 3, 7, 0, 2, 7, 1, 6, 3, 1, 0, 6, 5, 5, 2, 4, 5, 0, 4, 0, 3, 6, 7, 5, 0, 1, 1, 7, 7, 6, 2, 4, 6, 4, 3, 1, 5, 6, 3, 0, 6, 3]\n",
      "Parent 2: [1, 5, 5, 7, 3, 2, 1, 7, 5, 4, 4, 1, 7, 4, 2, 0, 1, 5, 3, 3, 5, 7, 3, 4, 4, 1, 6, 0, 2, 0, 6, 2, 5, 6, 7, 5, 6, 4, 6, 0, 3, 0, 6, 2, 2, 7, 3, 3, 6, 6, 1, 0, 2, 1, 1, 7, 7, 2, 4, 0, 4, 3, 0, 5]\n",
      "Size of tagged parents: 64\n",
      "First index: 9\n",
      "Second index: 27\n",
      "Tagged Offspring 1: [(7, 0), (5, 0), (2, 0), (1, 0), (5, 1), (7, 1), (5, 2), (3, 0), (1, 1), (4, 0), (4, 1), (1, 2), (7, 2), (4, 2), (2, 1), (0, 0), (1, 3), (5, 3), (3, 1), (3, 2), (5, 4), (7, 3), (3, 3), (4, 3), (4, 4), (1, 4), (6, 0), (0, 1), (2, 2), (2, 3), (2, 4), (0, 2), (2, 5), (7, 4), (6, 1), (0, 3), (6, 2), (2, 6), (5, 5), (0, 4), (4, 5), (0, 5), (3, 4), (6, 3), (7, 5), (5, 6), (0, 6), (1, 5), (1, 6), (7, 6), (7, 7), (6, 4), (2, 7), (4, 6), (6, 5), (4, 7), (3, 5), (1, 7), (5, 7), (6, 6), (3, 6), (0, 7), (6, 7), (3, 7)]\n",
      "Tagged Offspring 2: [(1, 0), (5, 0), (5, 1), (7, 0), (2, 0), (4, 0), (4, 1), (2, 1), (0, 0), (7, 1), (0, 1), (6, 0), (5, 2), (4, 2), (3, 0), (1, 1), (7, 2), (3, 1), (4, 3), (2, 2), (2, 3), (2, 4), (1, 2), (3, 2), (7, 3), (0, 2), (2, 5), (7, 4), (1, 3), (5, 3), (5, 4), (3, 3), (4, 4), (1, 4), (6, 1), (5, 5), (6, 2), (5, 6), (6, 3), (4, 5), (6, 4), (0, 3), (3, 4), (0, 4), (6, 5), (7, 5), (3, 5), (3, 6), (6, 6), (6, 7), (1, 5), (0, 5), (2, 6), (1, 6), (1, 7), (7, 6), (7, 7), (2, 7), (4, 6), (0, 6), (4, 7), (3, 7), (0, 7), (5, 7)]\n",
      "Offspring 1 Representation: [7, 5, 2, 1, 5, 7, 5, 3, 1, 4, 4, 1, 7, 4, 2, 0, 1, 5, 3, 3, 5, 7, 3, 4, 4, 1, 6, 0, 2, 2, 2, 0, 2, 7, 6, 0, 6, 2, 5, 0, 4, 0, 3, 6, 7, 5, 0, 1, 1, 7, 7, 6, 2, 4, 6, 4, 3, 1, 5, 6, 3, 0, 6, 3]\n",
      "Offspring 2 Representation: [1, 5, 5, 7, 2, 4, 4, 2, 0, 7, 0, 6, 5, 4, 3, 1, 7, 3, 4, 2, 2, 2, 1, 3, 7, 0, 2, 7, 1, 5, 5, 3, 4, 1, 6, 5, 6, 5, 6, 4, 6, 0, 3, 0, 6, 7, 3, 3, 6, 6, 1, 0, 2, 1, 1, 7, 7, 2, 4, 0, 4, 3, 0, 5]\n"
     ]
    }
   ],
   "source": [
    "# testing on a real solution\n",
    "parent1 = WSOSolution().repr\n",
    "parent2 = WSOSolution().repr\n",
    "\n",
    "print('Parent 1:', parent1)\n",
    "print('Parent 2:', parent2)\n",
    "\n",
    "offspring1_repr, offsrping2_repr = partially_matched_crossover(parent1_repr=parent1, parent2_repr=parent2)\n",
    "\n",
    "print('Offspring 1 Representation:', offspring1_repr)\n",
    "print('Offspring 2 Representation:', offsrping2_repr)"
   ]
  },
  {
   "cell_type": "markdown",
   "metadata": {},
   "source": [
    "## Position Based Crossover"
   ]
  },
  {
   "cell_type": "code",
   "execution_count": 18,
   "metadata": {},
   "outputs": [],
   "source": [
    "def pos_based_crossover(parent1_repr, parent2_repr):\n",
    "\n",
    "    '''\n",
    "    Definition\n",
    "        This operator is very similar to martially matched crossover - the difference being random \n",
    "        indices are exchanged, rather than a window. Position based crossover selects a random set \n",
    "        of indices from the parent solutions, then copies the values from these indices in each \n",
    "        parent to one of the offspring. The following indices are filled with values from the opposite\n",
    "        parent, in the order in which they appear.\n",
    "    \n",
    "    Parameters:\n",
    "        parent1_repr: Parent 1 representataion (list)\n",
    "        parent2_repr: Parent 2 representation (list)\n",
    "\n",
    "    Returns:\n",
    "        Pair of offspring with same type as parents\n",
    "    '''\n",
    "\n",
    "    tagged_p1 = tag_solution(parent1_repr)\n",
    "    tagged_p2 = tag_solution(parent2_repr)\n",
    "\n",
    "    size = len(tagged_p1)\n",
    "\n",
    "    # choose random selection of indices\n",
    "    num_indices = random.randint(1, size)\n",
    "    selected_indices = sorted(random.sample(range(size), num_indices))\n",
    "\n",
    "    print('Number of indices selected:', num_indices)\n",
    "    print('Randomly selected indices:', selected_indices)\n",
    "\n",
    "    # initializing empty offspring of correct size\n",
    "    tagged_offspring1 = [None] * size\n",
    "    tagged_offspring2 = [None] * size\n",
    "\n",
    "    for i in selected_indices:\n",
    "        tagged_offspring1[i] = tagged_p1[i]\n",
    "        tagged_offspring2[i] = tagged_p2[i]\n",
    "\n",
    "    # fill remaining indices with values from opposite parent, in the order which they appear, skipping duplicates\n",
    "    def fill_remaining(tagged_parent, tagged_offspring):\n",
    "        for i in range(size):\n",
    "\n",
    "            # leave the indices that were randomly selected alone\n",
    "            if i in selected_indices:\n",
    "                continue\n",
    "\n",
    "            # copy any remaining values from opposite parent\n",
    "            for value in tagged_parent:\n",
    "                if value not in tagged_offspring:\n",
    "                    tagged_offspring[i] = value\n",
    "                    break\n",
    "\n",
    "    fill_remaining(tagged_p1, tagged_offspring2)\n",
    "    fill_remaining(tagged_p2, tagged_offspring1)\n",
    "\n",
    "    # sanity check\n",
    "    print('Tagged Offspring 1:', tagged_offspring1)\n",
    "    print('Tagged Offspring 2:', tagged_offspring2)\n",
    "\n",
    "    offspring1_repr = untag_solution(tagged_offspring1)\n",
    "    offsrping2_repr = untag_solution(tagged_offspring2)\n",
    "\n",
    "    return offspring1_repr, offsrping2_repr"
   ]
  },
  {
   "cell_type": "code",
   "execution_count": 19,
   "metadata": {},
   "outputs": [
    {
     "name": "stdout",
     "output_type": "stream",
     "text": [
      "Parent 1: [1, 2, 1, 3, 2, 3]\n",
      "Parent 2: [3, 2, 1, 1, 3, 2]\n",
      "Tagged parent 1: [(1, 0), (2, 0), (1, 1), (3, 0), (2, 1), (3, 1)]\n",
      "Tagged parent 2: [(3, 0), (2, 0), (1, 0), (1, 1), (3, 1), (2, 1)]\n",
      "Number of indices selected: 4\n",
      "Randomly selected indices: [0, 1, 2, 4]\n",
      "Tagged Offspring 1: [(1, 0), (2, 0), (1, 1), (3, 0), (2, 1), (3, 1)]\n",
      "Tagged Offspring 2: [(3, 0), (2, 0), (1, 0), (1, 1), (3, 1), (2, 1)]\n",
      "Offspring 1: [1, 2, 1, 3, 2, 3]\n",
      "Offspring 2: [3, 2, 1, 1, 3, 2]\n"
     ]
    }
   ],
   "source": [
    "# testing partially matched crossover with toy values\n",
    "parent1 = [1, 2, 1, 3, 2, 3]\n",
    "parent2 = [3, 2, 1, 1, 3, 2]\n",
    "\n",
    "print('Parent 1:', parent1)\n",
    "print('Parent 2:', parent2)\n",
    "\n",
    "print('Tagged parent 1:', tag_solution(solution_repr=parent1))\n",
    "print('Tagged parent 2:', tag_solution(solution_repr=parent2))\n",
    "\n",
    "offspring1, offspring2 = pos_based_crossover(parent1_repr=parent1, parent2_repr=parent2)\n",
    "\n",
    "print('Offspring 1:', offspring1)\n",
    "print('Offspring 2:', offspring2)"
   ]
  },
  {
   "cell_type": "code",
   "execution_count": 20,
   "metadata": {},
   "outputs": [
    {
     "name": "stdout",
     "output_type": "stream",
     "text": [
      "Parent 1: [4, 0, 4, 5, 2, 7, 7, 5, 7, 0, 6, 4, 6, 6, 2, 6, 4, 0, 3, 1, 6, 6, 5, 1, 5, 3, 7, 4, 4, 3, 2, 4, 2, 2, 3, 1, 3, 5, 1, 7, 0, 3, 2, 6, 0, 7, 2, 3, 6, 0, 7, 1, 1, 3, 5, 5, 0, 7, 4, 1, 2, 0, 1, 5]\n",
      "Parent 2: [6, 6, 2, 5, 1, 0, 5, 5, 5, 7, 3, 7, 7, 3, 3, 6, 1, 3, 2, 7, 0, 7, 4, 0, 0, 2, 3, 4, 2, 5, 0, 5, 4, 0, 6, 1, 2, 4, 7, 6, 2, 3, 7, 4, 4, 3, 0, 1, 4, 4, 7, 1, 6, 1, 6, 6, 5, 3, 1, 1, 2, 5, 2, 0]\n",
      "Number of indices selected: 12\n",
      "Randomly selected indices: [5, 7, 8, 10, 13, 16, 19, 25, 28, 33, 57, 63]\n",
      "Tagged Offspring 1: [(6, 1), (2, 0), (5, 0), (0, 0), (5, 2), (7, 0), (5, 3), (5, 1), (7, 2), (3, 0), (6, 0), (7, 1), (3, 2), (6, 2), (1, 1), (3, 3), (4, 3), (2, 1), (7, 3), (1, 0), (0, 1), (7, 4), (4, 0), (0, 2), (0, 3), (3, 1), (2, 2), (3, 4), (4, 5), (4, 1), (2, 3), (5, 4), (0, 4), (2, 4), (5, 5), (4, 2), (0, 5), (6, 3), (1, 2), (7, 5), (6, 4), (2, 5), (3, 5), (7, 6), (4, 4), (3, 6), (0, 6), (1, 3), (4, 6), (4, 7), (1, 4), (6, 5), (1, 5), (6, 6), (6, 7), (5, 6), (3, 7), (7, 7), (1, 6), (1, 7), (2, 6), (2, 7), (0, 7), (5, 7)]\n",
      "Tagged Offspring 2: [(4, 0), (4, 1), (5, 0), (2, 0), (7, 0), (0, 0), (7, 1), (5, 2), (5, 3), (5, 1), (3, 0), (7, 2), (0, 1), (3, 1), (6, 0), (4, 2), (1, 1), (6, 1), (6, 2), (7, 3), (2, 1), (6, 3), (4, 3), (0, 2), (1, 0), (2, 2), (6, 4), (6, 5), (2, 3), (4, 4), (4, 5), (3, 2), (4, 6), (0, 5), (2, 4), (3, 3), (1, 2), (3, 4), (5, 4), (1, 3), (7, 4), (0, 3), (3, 5), (2, 5), (6, 6), (0, 4), (7, 5), (2, 6), (3, 6), (6, 7), (7, 6), (1, 4), (1, 5), (5, 5), (5, 6), (0, 6), (7, 7), (3, 7), (4, 7), (1, 6), (2, 7), (1, 7), (5, 7), (0, 7)]\n",
      "Offspring 1 Representation: [6, 2, 5, 0, 5, 7, 5, 5, 7, 3, 6, 7, 3, 6, 1, 3, 4, 2, 7, 1, 0, 7, 4, 0, 0, 3, 2, 3, 4, 4, 2, 5, 0, 2, 5, 4, 0, 6, 1, 7, 6, 2, 3, 7, 4, 3, 0, 1, 4, 4, 1, 6, 1, 6, 6, 5, 3, 7, 1, 1, 2, 2, 0, 5]\n",
      "Offspring 2 Representation: [4, 4, 5, 2, 7, 0, 7, 5, 5, 5, 3, 7, 0, 3, 6, 4, 1, 6, 6, 7, 2, 6, 4, 0, 1, 2, 6, 6, 2, 4, 4, 3, 4, 0, 2, 3, 1, 3, 5, 1, 7, 0, 3, 2, 6, 0, 7, 2, 3, 6, 7, 1, 1, 5, 5, 0, 7, 3, 4, 1, 2, 1, 5, 0]\n"
     ]
    }
   ],
   "source": [
    "# testing on a real solution\n",
    "parent1 = WSOSolution().repr\n",
    "parent2 = WSOSolution().repr\n",
    "\n",
    "print('Parent 1:', parent1)\n",
    "print('Parent 2:', parent2)\n",
    "\n",
    "offspring1_repr, offsrping2_repr = pos_based_crossover(parent1_repr=parent1, parent2_repr=parent2)\n",
    "\n",
    "print('Offspring 1 Representation:', offspring1_repr)\n",
    "print('Offspring 2 Representation:', offsrping2_repr)"
   ]
  },
  {
   "cell_type": "markdown",
   "metadata": {},
   "source": [
    "# MUTATION OPERATORS"
   ]
  },
  {
   "cell_type": "markdown",
   "metadata": {},
   "source": [
    "## Block Swap Mutation"
   ]
  },
  {
   "cell_type": "code",
   "execution_count": 18,
   "metadata": {},
   "outputs": [],
   "source": [
    "def block_swap_mutation(solution_repr, block_size = 4, mut_prob = 0.2):\n",
    "\n",
    "    '''\n",
    "    Definition\n",
    "        Appplies a modified swap mutation (swapping two blocks of indices) in a list represetation of a solution.\n",
    "        Applied with given mutation probability.\n",
    "\n",
    "        Block swap randomly selects two segments of the solution represenation\n",
    "        (segement of length block_size) and swaps all values in the two blocks.\n",
    "    \n",
    "    Parameters\n",
    "        solution_repr: Representation of solution to mutate (list)\n",
    "        block_size: length of segments to be swapped\n",
    "        mut_prob: probability of performing the mutation\n",
    "\n",
    "    Returns\n",
    "        Copy of original solution if mutation probability condition is not met\n",
    "        New mutated solution if mutation probability is met\n",
    "\n",
    "    '''\n",
    "\n",
    "    new_repr = deepcopy(solution_repr)\n",
    "\n",
    "    if random.random() <= mut_prob:\n",
    "    \n",
    "        # randomly choose two indices for block start positions - must be block_size genes before end\n",
    "        first_idx = random.randint(0, len(solution_repr) - 1 - block_size)\n",
    "        second_idx = first_idx\n",
    "\n",
    "        # We want to get two indexes that are at least block_size number of genes away from one another\n",
    "        while abs(second_idx-first_idx) <= block_size:\n",
    "            second_idx = random.randint(0, len(solution_repr) - 1 - block_size)\n",
    "        \n",
    "\n",
    "        # Ensure first_idx < second_idx\n",
    "        if first_idx > second_idx:\n",
    "            first_idx, second_idx = second_idx, first_idx\n",
    "\n",
    "        # viewing indices\n",
    "        print('First index:', first_idx)\n",
    "        print('Second index:', second_idx)\n",
    "\n",
    "        for i in range(block_size):\n",
    "            solution_repr[first_idx + i], solution_repr[second_idx + i] = solution_repr[second_idx + i], solution_repr[first_idx + i]\n",
    "\n",
    "        return solution_repr\n",
    "    \n",
    "    else:\n",
    "        return new_repr\n"
   ]
  },
  {
   "cell_type": "code",
   "execution_count": 19,
   "metadata": {},
   "outputs": [
    {
     "name": "stdout",
     "output_type": "stream",
     "text": [
      "Parent 1: [1, 2, 2, 3, 1, 3, 2, 3, 1]\n",
      "First index: 2\n",
      "Second index: 6\n",
      "Mutated Offspring: [1, 2, 2, 3, 1, 3, 2, 3, 1]\n"
     ]
    }
   ],
   "source": [
    "# testing block mutation with toy values\n",
    "parent1 = [1, 2, 2, 3, 1, 3, 2, 3, 1, ]\n",
    "\n",
    "print('Parent 1:', parent1)\n",
    "\n",
    "offspring = block_swap_mutation(parent1, 2, mut_prob=1)\n",
    "\n",
    "print('Mutated Offspring:', offspring)"
   ]
  },
  {
   "cell_type": "code",
   "execution_count": 26,
   "metadata": {},
   "outputs": [
    {
     "name": "stdout",
     "output_type": "stream",
     "text": [
      "Prarent Respresentation: [1, 3, 4, 7, 0, 2, 7, 4, 3, 6, 3, 4, 5, 5, 6, 2, 0, 1, 0, 5, 2, 4, 6, 2, 4, 0, 7, 1, 5, 3, 3, 2, 0, 2, 4, 7, 0, 1, 6, 2, 6, 0, 2, 5, 1, 4, 5, 3, 7, 1, 7, 4, 1, 5, 6, 3, 6, 6, 7, 5, 0, 3, 1, 7]\n",
      "First index: 42\n",
      "Second index: 56\n",
      "Mutated Offspring: [1, 3, 4, 7, 0, 2, 7, 4, 3, 6, 3, 4, 5, 5, 6, 2, 0, 1, 0, 5, 2, 4, 6, 2, 4, 0, 7, 1, 5, 3, 3, 2, 0, 2, 4, 7, 0, 1, 6, 2, 6, 0, 6, 6, 7, 5, 0, 3, 7, 1, 7, 4, 1, 5, 6, 3, 2, 5, 1, 4, 5, 3, 1, 7]\n"
     ]
    }
   ],
   "source": [
    "# testing block mutation on real solution\n",
    "\n",
    "parent_repr = WSOSolution().repr\n",
    "\n",
    "print('Prarent Respresentation:', parent_repr)\n",
    "\n",
    "offspring = block_swap_mutation(parent_repr, 6, mut_prob=1)\n",
    "\n",
    "print('Mutated Offspring:', offspring)\n"
   ]
  },
  {
   "cell_type": "markdown",
   "metadata": {},
   "source": [
    "## Shuffle Subsequence Mutation"
   ]
  },
  {
   "cell_type": "code",
   "execution_count": 25,
   "metadata": {},
   "outputs": [],
   "source": [
    "def shuffle_subsequence_mutation(solution_repr, mut_prob = 0.2):\n",
    "\n",
    "    '''\n",
    "    Definition\n",
    "        Shuffle Subsequence is a modification of Inverse Subsequence Mutation presented in\n",
    "        practiacl classes. It applies a shuffling of values between two randomly selected indices.\n",
    "        Applied with given mutation probability.\n",
    "\n",
    "        Shuffle Subsequence mutation selects two random indices from the solution,\n",
    "        and randomly shuffles the values between them.\n",
    "\n",
    "    Parameters\n",
    "        solution_repr: Representation of solution to mutate (list)\n",
    "        mut_prob: probability of performing the mutation\n",
    "    \n",
    "    Returns\n",
    "        Copy of original solution if mutation probability condition is not met\n",
    "        New mutated solution if mutation probability is met\n",
    "    \n",
    "    '''\n",
    "\n",
    "    new_repr = deepcopy(solution_repr)\n",
    "\n",
    "    if random.random() <= mut_prob:\n",
    "\n",
    "        # Select two distinct indices\n",
    "        first_idx = random.randint(0, len(new_repr)-1)\n",
    "        second_idx = first_idx\n",
    "\n",
    "        # We want to get two indices that are at least 2 genes away\n",
    "        while abs(second_idx-first_idx) <= 1:\n",
    "            second_idx = random.randint(0, len(new_repr)-1)\n",
    "    \n",
    "        # Ensure first_idx < second_idx\n",
    "        if first_idx > second_idx:\n",
    "            first_idx, second_idx = second_idx, first_idx\n",
    "\n",
    "        print('First index:', first_idx)\n",
    "        print('Second index:', second_idx)\n",
    "\n",
    "        # Reverse between first and second index\n",
    "        subsequence = new_repr[first_idx:second_idx]\n",
    "\n",
    "        # Shuffle the subsequence in place\n",
    "        random.shuffle(subsequence)\n",
    "        \n",
    "        # Reassign shuffled values between 2 indices\n",
    "        new_repr[first_idx:second_idx] = subsequence\n",
    "\n",
    "        return new_repr\n",
    "    \n",
    "    else:\n",
    "        return new_repr"
   ]
  },
  {
   "cell_type": "code",
   "execution_count": 27,
   "metadata": {},
   "outputs": [
    {
     "name": "stdout",
     "output_type": "stream",
     "text": [
      "Parent 1: [1, 2, 2, 3, 1, 3, 2, 3, 1]\n",
      "First index: 1\n",
      "Second index: 4\n",
      "Mutated Offspring: [1, 2, 2, 3, 1, 3, 2, 3, 1]\n"
     ]
    }
   ],
   "source": [
    "# testing shuffle subsequence mutation with toy values\n",
    "parent1 = [1, 2, 2, 3, 1, 3, 2, 3, 1, ]\n",
    "\n",
    "print('Parent 1:', parent1)\n",
    "\n",
    "offspring = shuffle_subsequence_mutation(parent1, mut_prob=1)\n",
    "\n",
    "print('Mutated Offspring:', offspring)"
   ]
  },
  {
   "cell_type": "code",
   "execution_count": 28,
   "metadata": {},
   "outputs": [
    {
     "name": "stdout",
     "output_type": "stream",
     "text": [
      "Prarent Respresentation: [5, 7, 2, 0, 6, 3, 2, 1, 7, 5, 5, 7, 4, 6, 0, 1, 2, 3, 2, 6, 6, 3, 4, 2, 5, 3, 6, 1, 7, 1, 1, 3, 4, 1, 4, 4, 5, 2, 5, 4, 0, 7, 4, 2, 7, 1, 0, 3, 6, 0, 7, 5, 5, 1, 2, 4, 6, 6, 3, 0, 0, 3, 7, 0]\n",
      "First index: 4\n",
      "Second index: 6\n",
      "Mutated Offspring: [5, 7, 2, 0, 6, 3, 2, 1, 7, 5, 5, 7, 4, 6, 0, 1, 2, 3, 2, 6, 6, 3, 4, 2, 5, 3, 6, 1, 7, 1, 1, 3, 4, 1, 4, 4, 5, 2, 5, 4, 0, 7, 4, 2, 7, 1, 0, 3, 6, 0, 7, 5, 5, 1, 2, 4, 6, 6, 3, 0, 0, 3, 7, 0]\n"
     ]
    }
   ],
   "source": [
    "# testing shuffle subsquence mutation with real solutions\n",
    "\n",
    "parent_repr = WSOSolution().repr\n",
    "\n",
    "print('Prarent Respresentation:', parent_repr)\n",
    "\n",
    "offspring = shuffle_subsequence_mutation(parent_repr, mut_prob=1)\n",
    "\n",
    "print('Mutated Offspring:', offspring)"
   ]
  },
  {
   "cell_type": "markdown",
   "metadata": {},
   "source": [
    "## N-Swap Mutation"
   ]
  },
  {
   "cell_type": "code",
   "execution_count": 29,
   "metadata": {},
   "outputs": [],
   "source": [
    "def n_swap_mutation(solution_repr, mut_prob = 0.2, n = 8):\n",
    "\n",
    "    '''\n",
    "    Defition\n",
    "        N-Swap Mutation is a modification of Swap Mutation present in practical classes. It\n",
    "        selects n random pairs of iniduces to swap perform swap mutation.\n",
    "        Applied with given mutation probability.\n",
    "\n",
    "        N-Swap mutation randomly selects n pairs of positions from given solution,\n",
    "        and swaps their values.\n",
    "\n",
    "    Parameters\n",
    "        solution_repr: Representation of solution to mutate (list)\n",
    "        mut_prob: probability of performing the mutation\n",
    "        n: number of pairs of indices to swap\n",
    "\n",
    "    Returns:\n",
    "        Copy of original solution if mutation probability condition is not met\n",
    "        New mutated solution if mutation probability is met\n",
    "        \n",
    "    '''\n",
    "\n",
    "    new_repr = deepcopy(solution_repr)\n",
    "\n",
    "    if random.random() <= mut_prob:\n",
    "        for _ in range (n):\n",
    "            i, j = random.sample(range(len(solution_repr)), 2)\n",
    "            new_repr[i], new_repr[j] = new_repr[j], new_repr[i]\n",
    "\n",
    "            print('Index 1:', i)\n",
    "            print('Index 2:', j)\n",
    "\n",
    "        return new_repr\n",
    "    \n",
    "    else:\n",
    "        return new_repr"
   ]
  },
  {
   "cell_type": "code",
   "execution_count": 30,
   "metadata": {},
   "outputs": [
    {
     "name": "stdout",
     "output_type": "stream",
     "text": [
      "Parent 1: [1, 2, 2, 3, 1, 3, 2, 3, 1]\n",
      "Index 1: 6\n",
      "Index 2: 0\n",
      "Mutated Offspring: [2, 2, 2, 3, 1, 3, 1, 3, 1]\n"
     ]
    }
   ],
   "source": [
    "# testing n-swap mutation with toy values\n",
    "parent1 = [1, 2, 2, 3, 1, 3, 2, 3, 1, ]\n",
    "\n",
    "print('Parent 1:', parent1)\n",
    "\n",
    "offspring = n_swap_mutation(parent1, mut_prob=1, n=1)\n",
    "\n",
    "print('Mutated Offspring:', offspring)"
   ]
  },
  {
   "cell_type": "code",
   "execution_count": 31,
   "metadata": {},
   "outputs": [
    {
     "name": "stdout",
     "output_type": "stream",
     "text": [
      "Prarent Respresentation: [2, 1, 6, 5, 6, 3, 4, 0, 3, 3, 6, 2, 4, 6, 7, 2, 0, 4, 2, 0, 5, 5, 0, 7, 1, 3, 1, 0, 5, 3, 5, 4, 4, 5, 4, 1, 6, 4, 6, 1, 7, 7, 3, 7, 7, 0, 5, 7, 0, 3, 4, 6, 2, 1, 1, 3, 6, 2, 5, 2, 0, 2, 7, 1]\n",
      "Index 1: 21\n",
      "Index 2: 13\n",
      "Index 1: 61\n",
      "Index 2: 62\n",
      "Index 1: 35\n",
      "Index 2: 33\n",
      "Index 1: 51\n",
      "Index 2: 16\n",
      "Mutated Offspring: [2, 1, 6, 5, 6, 3, 4, 0, 3, 3, 6, 2, 4, 5, 7, 2, 6, 4, 2, 0, 5, 6, 0, 7, 1, 3, 1, 0, 5, 3, 5, 4, 4, 1, 4, 5, 6, 4, 6, 1, 7, 7, 3, 7, 7, 0, 5, 7, 0, 3, 4, 0, 2, 1, 1, 3, 6, 2, 5, 2, 0, 7, 2, 1]\n"
     ]
    }
   ],
   "source": [
    "# testing n-swap mutation with real solutions\n",
    "\n",
    "parent_repr = WSOSolution().repr\n",
    "\n",
    "print('Prarent Respresentation:', parent_repr)\n",
    "\n",
    "offspring = n_swap_mutation(parent_repr, n=4, mut_prob=1)\n",
    "\n",
    "print('Mutated Offspring:', offspring)"
   ]
  },
  {
   "cell_type": "markdown",
   "metadata": {},
   "source": [
    "## Displacement Mutation"
   ]
  },
  {
   "cell_type": "markdown",
   "metadata": {},
   "source": [
    "Potential Adjustments:\n",
    "- Could get a modification that prevents the cut subsequence from being re-inserted into the same position"
   ]
  },
  {
   "cell_type": "code",
   "execution_count": 32,
   "metadata": {},
   "outputs": [],
   "source": [
    "def displacement_mutation(solution_repr, mut_prob = 0.2):\n",
    "\n",
    "    '''\n",
    "    Definition\n",
    "        Displacement Mutation selects a random subsequence from the solution\n",
    "        representation. This subsequence is removed, then re-inserted into the solution\n",
    "        at a random position.\n",
    "    \n",
    "    Parameters\n",
    "        solution_repr: Representation of solution to mutate (list)\n",
    "        mut_prob: probability of performing the mutation\n",
    "\n",
    "    Returns\n",
    "        Copy of original solution if mutation probability condition is not met\n",
    "        New mutated solution if mutation probability is met\n",
    "    '''\n",
    "    \n",
    "    new_repr = deepcopy(solution_repr)\n",
    "\n",
    "    if random.random() <= mut_prob:\n",
    "\n",
    "        # Select two distinct indices\n",
    "        first_idx = random.randint(0, len(new_repr)-1)\n",
    "        second_idx = first_idx\n",
    "\n",
    "        # We want to get two indices that are at least 2 genes away\n",
    "        while abs(second_idx-first_idx) <= 1:\n",
    "            second_idx = random.randint(0, len(new_repr)-1)\n",
    "    \n",
    "        # Ensure first_idx < second_idx\n",
    "        if first_idx > second_idx:\n",
    "            first_idx, second_idx = second_idx, first_idx\n",
    "\n",
    "        print('First index:', first_idx)\n",
    "        print('Second index:', second_idx)\n",
    "\n",
    "        subsequence = new_repr[first_idx:second_idx+1]\n",
    "\n",
    "        # remove selected subsequence from solution representation\n",
    "        remaining = new_repr[: first_idx] + new_repr[second_idx + 1:]\n",
    "\n",
    "        # choose a random position to re-insert the cut segment\n",
    "        insert_position = random.randint(0, len(remaining))\n",
    "        print('Position where subsequence is inserted:', insert_position)\n",
    "\n",
    "        new_repr = remaining[: insert_position] + subsequence + remaining[insert_position: ]\n",
    "\n",
    "        return new_repr\n",
    "    \n",
    "    else:\n",
    "        return new_repr"
   ]
  },
  {
   "cell_type": "code",
   "execution_count": 33,
   "metadata": {},
   "outputs": [
    {
     "name": "stdout",
     "output_type": "stream",
     "text": [
      "Parent 1: [1, 2, 2, 3, 1, 3, 2, 3, 1]\n",
      "First index: 3\n",
      "Second index: 5\n",
      "Position where subsequence is inserted: 6\n",
      "Mutated Offspring: [1, 2, 2, 2, 3, 1, 3, 1, 3]\n"
     ]
    }
   ],
   "source": [
    "# testing displacement mutation with toy values\n",
    "parent1 = [1, 2, 2, 3, 1, 3, 2, 3, 1]\n",
    "\n",
    "print('Parent 1:', parent1)\n",
    "\n",
    "offspring = displacement_mutation(parent1, mut_prob=1)\n",
    "\n",
    "print('Mutated Offspring:', offspring)"
   ]
  },
  {
   "cell_type": "code",
   "execution_count": 34,
   "metadata": {},
   "outputs": [
    {
     "name": "stdout",
     "output_type": "stream",
     "text": [
      "Prarent Respresentation: [7, 7, 0, 2, 0, 5, 4, 6, 2, 3, 5, 0, 5, 4, 1, 6, 6, 6, 7, 1, 6, 4, 5, 0, 3, 3, 0, 3, 2, 2, 4, 2, 1, 2, 3, 5, 6, 7, 7, 3, 5, 1, 4, 3, 1, 6, 0, 6, 7, 0, 2, 3, 7, 4, 1, 4, 4, 0, 2, 5, 1, 5, 1, 7]\n",
      "First index: 5\n",
      "Second index: 19\n",
      "Position where subsequence is inserted: 21\n",
      "Mutated Offspring: [7, 7, 0, 2, 0, 6, 4, 5, 0, 3, 3, 0, 3, 2, 2, 4, 2, 1, 2, 3, 5, 5, 4, 6, 2, 3, 5, 0, 5, 4, 1, 6, 6, 6, 7, 1, 6, 7, 7, 3, 5, 1, 4, 3, 1, 6, 0, 6, 7, 0, 2, 3, 7, 4, 1, 4, 4, 0, 2, 5, 1, 5, 1, 7]\n"
     ]
    }
   ],
   "source": [
    "# testing n-swap mutation with real solutions\n",
    "\n",
    "parent_repr = WSOSolution().repr\n",
    "\n",
    "print('Prarent Respresentation:', parent_repr)\n",
    "\n",
    "offspring = displacement_mutation(parent_repr, mut_prob=1)\n",
    "\n",
    "print('Mutated Offspring:', offspring)"
   ]
  }
 ],
 "metadata": {
  "kernelspec": {
   "display_name": "CIFO25",
   "language": "python",
   "name": "python3"
  },
  "language_info": {
   "codemirror_mode": {
    "name": "ipython",
    "version": 3
   },
   "file_extension": ".py",
   "mimetype": "text/x-python",
   "name": "python",
   "nbconvert_exporter": "python",
   "pygments_lexer": "ipython3",
   "version": "3.12.9"
  }
 },
 "nbformat": 4,
 "nbformat_minor": 2
}
