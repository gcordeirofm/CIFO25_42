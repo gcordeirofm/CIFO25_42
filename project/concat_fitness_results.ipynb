{
 "cells": [
  {
   "cell_type": "markdown",
   "id": "93f973a3",
   "metadata": {},
   "source": [
    "## Concatenation of two phase 1 runs"
   ]
  },
  {
   "cell_type": "code",
   "execution_count": null,
   "id": "80f1975c",
   "metadata": {},
   "outputs": [
    {
     "name": "stdout",
     "output_type": "stream",
     "text": [
      "36\n"
     ]
    }
   ],
   "source": [
    "import os\n",
    "import pandas as pd\n",
    "\n",
    "run1_dir = \"fitness_results/phase1_run1\"\n",
    "run2_dir = \"fitness_results/phase1_run2\"\n",
    "output_dir = \"fitness_results/phase1_concatenated\"\n",
    "os.makedirs(output_dir, exist_ok=True)\n",
    "\n",
    "files = sorted(os.listdir(run1_dir))\n",
    "nbr_concats = 0\n",
    "\n",
    "for fname in files:\n",
    "    run1_path = os.path.join(run1_dir, fname)\n",
    "    run2_path = os.path.join(run2_dir, fname)\n",
    "\n",
    "    if os.path.exists(run2_path):\n",
    "        df1 = pd.read_csv(run1_path)\n",
    "        df2 = pd.read_csv(run2_path)\n",
    "        concat_df = pd.concat([df1, df2], ignore_index=True)\n",
    "        out_path = os.path.join(output_dir, fname)\n",
    "        concat_df.to_csv(out_path, index=False)\n",
    "        print(f\"Concatenated {fname} ({len(df1)} + {len(df2)} rows) -> {out_path}\")\n",
    "        nbr_concats += 1\n",
    "        print(f\"Total concatenated files: {nbr_concats}\")\n",
    "    else:\n",
    "        print(f\"File {fname} not found in run2, skipping.\")"
   ]
  },
  {
   "cell_type": "code",
   "execution_count": null,
   "id": "5491e8e6",
   "metadata": {},
   "outputs": [],
   "source": []
  }
 ],
 "metadata": {
  "kernelspec": {
   "display_name": "Python 3",
   "language": "python",
   "name": "python3"
  },
  "language_info": {
   "codemirror_mode": {
    "name": "ipython",
    "version": 3
   },
   "file_extension": ".py",
   "mimetype": "text/x-python",
   "name": "python",
   "nbconvert_exporter": "python",
   "pygments_lexer": "ipython3",
   "version": "3.13.2"
  }
 },
 "nbformat": 4,
 "nbformat_minor": 5
}
